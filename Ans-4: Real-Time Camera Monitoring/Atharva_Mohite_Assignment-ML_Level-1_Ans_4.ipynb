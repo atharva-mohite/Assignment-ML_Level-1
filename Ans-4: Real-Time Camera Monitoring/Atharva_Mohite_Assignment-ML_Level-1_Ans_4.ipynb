{
 "cells": [
  {
   "cell_type": "code",
   "execution_count": 3,
   "id": "5f868571-a7a1-4a87-b64f-7088646c5b4c",
   "metadata": {},
   "outputs": [
    {
     "name": "stdout",
     "output_type": "stream",
     "text": [
      "D:\\hacklabs_assignment\\Ans-4\\myenv\\Scripts\\python.exe\n"
     ]
    }
   ],
   "source": [
    "import sys\n",
    "print(sys.executable)"
   ]
  },
  {
   "cell_type": "code",
   "execution_count": 4,
   "id": "03a53613-8053-4f66-ab85-a33ef8fff2b8",
   "metadata": {},
   "outputs": [],
   "source": [
    "import cv2\n",
    "import datetime\n",
    "import os\n",
    "import shutil"
   ]
  },
  {
   "cell_type": "code",
   "execution_count": 5,
   "id": "a581ad5a-8e95-46f5-8c4c-bd95953366e2",
   "metadata": {},
   "outputs": [],
   "source": [
    "# Function to empty a folder\n",
    "def empty_folder(folder_path):\n",
    "    for filename in os.listdir(folder_path):\n",
    "        file_path = os.path.join(folder_path, filename)\n",
    "        if os.path.isfile(file_path) or os.path.islink(file_path):\n",
    "            os.unlink(file_path)\n",
    "        elif os.path.isdir(file_path):\n",
    "            shutil.rmtree(file_path)\n",
    "\n",
    "# Check and create or empty 'regular_frames' folder\n",
    "if not os.path.exists('regular_frames'):\n",
    "    os.makedirs('regular_frames')\n",
    "else:\n",
    "    empty_folder('regular_frames')\n",
    "\n",
    "# Check and create or empty 'motion_frames' folder\n",
    "if not os.path.exists('motion_frames'):\n",
    "    os.makedirs('motion_frames')\n",
    "else:\n",
    "    empty_folder('motion_frames')\n",
    "\n",
    "# Define the RTSP URL\n",
    "rtsp_url = 'rtsp://192.168.1.x:8554/myvideo'  # Replace with your RTSP UR\n",
    "regular_interval = 32 # Define time interval (in sec) between capturing regular frames\n",
    "\n",
    "# Define parameters for motion detection\n",
    "fgbg = cv2.createBackgroundSubtractorMOG2(history=500, varThreshold=50, detectShadows=True) # Background subtractor for motion detection\n",
    "wait_time = 8 # Define wait time (in sec) between motion detections (to prevent immediate re-detection of the same motion)\n",
    "\n",
    "# For specific motion detection\n",
    "min_height_threshold = 92  # Minimum height threshold\n",
    "max_height_threshold = 380  # Maximum height threshold\n",
    "min_width_threshold = 127  # Minimum width threshold\n",
    "max_width_threshold = 447  # Maximum width threshold"
   ]
  },
  {
   "cell_type": "code",
   "execution_count": 6,
   "id": "76fbcac8-006e-4710-8d19-659b483acdcc",
   "metadata": {},
   "outputs": [
    {
     "name": "stdout",
     "output_type": "stream",
     "text": [
      "Routine capture saved frame at regular_frames/2024-08-11 14-42-50.jpg\n",
      "Motion detected and saved frame at motion_frames/2024-08-11 14-43-09.jpg\n",
      "Routine capture saved frame at regular_frames/2024-08-11 14-43-22.jpg\n",
      "Motion detected and saved frame at motion_frames/2024-08-11 14-43-46.jpg\n",
      "Motion detected and saved frame at motion_frames/2024-08-11 14-43-54.jpg\n",
      "Routine capture saved frame at regular_frames/2024-08-11 14-43-54.jpg\n",
      "Motion detected and saved frame at motion_frames/2024-08-11 14-44-02.jpg\n",
      "Motion detected and saved frame at motion_frames/2024-08-11 14-44-11.jpg\n",
      "Motion detected and saved frame at motion_frames/2024-08-11 14-44-19.jpg\n",
      "Routine capture saved frame at regular_frames/2024-08-11 14-44-26.jpg\n",
      "Motion detected and saved frame at motion_frames/2024-08-11 14-44-27.jpg\n",
      "Motion detected and saved frame at motion_frames/2024-08-11 14-44-35.jpg\n",
      "Motion detected and saved frame at motion_frames/2024-08-11 14-44-47.jpg\n",
      "Motion detected and saved frame at motion_frames/2024-08-11 14-44-55.jpg\n",
      "Routine capture saved frame at regular_frames/2024-08-11 14-44-58.jpg\n",
      "Motion detected and saved frame at motion_frames/2024-08-11 14-45-03.jpg\n",
      "Motion detected and saved frame at motion_frames/2024-08-11 14-45-11.jpg\n",
      "Motion detected and saved frame at motion_frames/2024-08-11 14-45-22.jpg\n",
      "Routine capture saved frame at regular_frames/2024-08-11 14-45-30.jpg\n",
      "Motion detected and saved frame at motion_frames/2024-08-11 14-45-31.jpg\n",
      "Motion detected and saved frame at motion_frames/2024-08-11 14-45-56.jpg\n",
      "Routine capture saved frame at regular_frames/2024-08-11 14-46-02.jpg\n",
      "Motion detected and saved frame at motion_frames/2024-08-11 14-46-04.jpg\n",
      "Motion detected and saved frame at motion_frames/2024-08-11 14-46-13.jpg\n",
      "Motion detected and saved frame at motion_frames/2024-08-11 14-46-25.jpg\n",
      "Routine capture saved frame at regular_frames/2024-08-11 14-46-34.jpg\n",
      "Motion detected and saved frame at motion_frames/2024-08-11 14-46-36.jpg\n",
      "Motion detected and saved frame at motion_frames/2024-08-11 14-46-56.jpg\n",
      "Motion detected and saved frame at motion_frames/2024-08-11 14-47-04.jpg\n",
      "Routine capture saved frame at regular_frames/2024-08-11 14-47-06.jpg\n",
      "Motion detected and saved frame at motion_frames/2024-08-11 14-47-12.jpg\n",
      "Motion detected and saved frame at motion_frames/2024-08-11 14-47-26.jpg\n",
      "Motion detected and saved frame at motion_frames/2024-08-11 14-47-38.jpg\n",
      "Routine capture saved frame at regular_frames/2024-08-11 14-47-39.jpg\n",
      "Routine capture saved frame at regular_frames/2024-08-11 14-48-11.jpg\n",
      "Routine capture saved frame at regular_frames/2024-08-11 14-48-43.jpg\n",
      "Error: Unable to read frame.\n"
     ]
    }
   ],
   "source": [
    "# Setup the RTSP stream on VLC Media Player BEFORE executing this code block\n",
    "# Instructions to setup stream and run this script are given here: https://github.com/atharva-mohite/Assignment-ML_Level-1\n",
    "\n",
    "# Connect to the RTSP stream\n",
    "cap = cv2.VideoCapture(rtsp_url)\n",
    "\n",
    "# Check if the video capture is opened\n",
    "if not cap.isOpened():\n",
    "    print(\"Error: Unable to connect to the video stream.\")\n",
    "    exit()\n",
    "\n",
    "# To keep track of the time for routine surveillance logging and motion detection\n",
    "last_saved_time = datetime.datetime.now()\n",
    "last_motion_time = datetime.datetime.now()\n",
    "while True:\n",
    "    # Capture frame-by-frame\n",
    "    ret, frame = cap.read()\n",
    "    if not ret:\n",
    "        print(\"Error: Unable to read frame.\")\n",
    "        break\n",
    "\n",
    "    # Add timestamp to frame\n",
    "    timestamp = datetime.datetime.now().strftime(\"%Y-%m-%d %H:%M:%S\")\n",
    "    cv2.putText(frame, timestamp, (10, frame.shape[0] - 10), cv2.FONT_HERSHEY_SIMPLEX, 0.5, (0, 255, 255), 2, cv2.LINE_AA)\n",
    "\n",
    "    frame_m = frame\n",
    "    # Motion detection\n",
    "    fgmask = fgbg.apply(frame_m)\n",
    "    _, fgmask = cv2.threshold(fgmask, 25, 255, cv2.THRESH_BINARY)\n",
    "    contours, _ = cv2.findContours(fgmask, cv2.RETR_EXTERNAL, cv2.CHAIN_APPROX_SIMPLE)\n",
    "\n",
    "    motion_detected = False\n",
    "    for contour in contours:\n",
    "        x, y, w, h = cv2.boundingRect(contour)\n",
    "        if (min_height_threshold <= h <= max_height_threshold) and (min_width_threshold <= w <= max_width_threshold):\n",
    "            motion_detected = True\n",
    "            cv2.rectangle(frame, (x, y), (x+w, y+h), (0, 255, 0), 2)\n",
    "\n",
    "    # Save frame if motion is detected and enough time has passed\n",
    "    current_time = datetime.datetime.now()\n",
    "    if motion_detected and (current_time - last_motion_time).seconds >= wait_time:\n",
    "        motion_capture_path = f'motion_frames/{timestamp}.jpg'.replace(':', '-')\n",
    "        cv2.imwrite(motion_capture_path, frame_m)\n",
    "        print(f\"Motion detected and saved frame at {motion_capture_path}\")\n",
    "        last_motion_time = current_time  # Update last motion detection time\n",
    "\n",
    "    # Save frame every 'regular_interval' sec for routine surveillance logging\n",
    "    if (current_time - last_saved_time).seconds >= regular_interval:\n",
    "        routine_capture_path = f'regular_frames/{timestamp}.jpg'.replace(':', '-')\n",
    "        cv2.imwrite(routine_capture_path, frame)\n",
    "        last_saved_time = current_time\n",
    "        print(f\"Routine capture saved frame at {routine_capture_path}\")\n",
    "\n",
    "cap.release()"
   ]
  },
  {
   "cell_type": "code",
   "execution_count": null,
   "id": "c0d7856b-b9e4-4bf1-b901-964654aa2b21",
   "metadata": {},
   "outputs": [],
   "source": []
  }
 ],
 "metadata": {
  "kernelspec": {
   "display_name": "Python 3 (ipykernel)",
   "language": "python",
   "name": "python3"
  },
  "language_info": {
   "codemirror_mode": {
    "name": "ipython",
    "version": 3
   },
   "file_extension": ".py",
   "mimetype": "text/x-python",
   "name": "python",
   "nbconvert_exporter": "python",
   "pygments_lexer": "ipython3",
   "version": "3.10.6"
  }
 },
 "nbformat": 4,
 "nbformat_minor": 5
}
