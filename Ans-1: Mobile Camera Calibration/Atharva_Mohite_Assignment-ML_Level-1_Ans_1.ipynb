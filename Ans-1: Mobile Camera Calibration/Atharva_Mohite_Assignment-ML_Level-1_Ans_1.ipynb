{
  "cells": [
    {
      "cell_type": "markdown",
      "metadata": {
        "id": "view-in-github",
        "colab_type": "text"
      },
      "source": [
        "<a href=\"https://colab.research.google.com/github/atharva-mohite/Assignment-ML_Level-1/blob/main/Atharva_Mohite_Assignment_ML_Level_1_Ans_1.ipynb\" target=\"_parent\"><img src=\"https://colab.research.google.com/assets/colab-badge.svg\" alt=\"Open In Colab\"/></a>"
      ]
    },
    {
      "cell_type": "markdown",
      "metadata": {
        "id": "08LPcQut88yf"
      },
      "source": [
        "Question-1: Automating Mobile Camera Calibration"
      ]
    },
    {
      "cell_type": "code",
      "execution_count": 1,
      "metadata": {
        "id": "Pq5iMBebH-lN"
      },
      "outputs": [],
      "source": [
        "import os\n",
        "import re\n",
        "import numpy as np\n",
        "import cv2 as cv\n",
        "from google.colab import files\n",
        "from google.colab.patches import cv2_imshow"
      ]
    },
    {
      "cell_type": "code",
      "execution_count": 2,
      "metadata": {
        "colab": {
          "base_uri": "https://localhost:8080/",
          "height": 216
        },
        "id": "NYvu-v8EIQgi",
        "outputId": "797a8b0d-308b-40bc-e621-229ab81b4bc6"
      },
      "outputs": [
        {
          "output_type": "display_data",
          "data": {
            "text/plain": [
              "<IPython.core.display.HTML object>"
            ],
            "text/html": [
              "\n",
              "     <input type=\"file\" id=\"files-d47b1d5b-cc74-4b99-b563-d6f58ed9f1d4\" name=\"files[]\" multiple disabled\n",
              "        style=\"border:none\" />\n",
              "     <output id=\"result-d47b1d5b-cc74-4b99-b563-d6f58ed9f1d4\">\n",
              "      Upload widget is only available when the cell has been executed in the\n",
              "      current browser session. Please rerun this cell to enable.\n",
              "      </output>\n",
              "      <script>// Copyright 2017 Google LLC\n",
              "//\n",
              "// Licensed under the Apache License, Version 2.0 (the \"License\");\n",
              "// you may not use this file except in compliance with the License.\n",
              "// You may obtain a copy of the License at\n",
              "//\n",
              "//      http://www.apache.org/licenses/LICENSE-2.0\n",
              "//\n",
              "// Unless required by applicable law or agreed to in writing, software\n",
              "// distributed under the License is distributed on an \"AS IS\" BASIS,\n",
              "// WITHOUT WARRANTIES OR CONDITIONS OF ANY KIND, either express or implied.\n",
              "// See the License for the specific language governing permissions and\n",
              "// limitations under the License.\n",
              "\n",
              "/**\n",
              " * @fileoverview Helpers for google.colab Python module.\n",
              " */\n",
              "(function(scope) {\n",
              "function span(text, styleAttributes = {}) {\n",
              "  const element = document.createElement('span');\n",
              "  element.textContent = text;\n",
              "  for (const key of Object.keys(styleAttributes)) {\n",
              "    element.style[key] = styleAttributes[key];\n",
              "  }\n",
              "  return element;\n",
              "}\n",
              "\n",
              "// Max number of bytes which will be uploaded at a time.\n",
              "const MAX_PAYLOAD_SIZE = 100 * 1024;\n",
              "\n",
              "function _uploadFiles(inputId, outputId) {\n",
              "  const steps = uploadFilesStep(inputId, outputId);\n",
              "  const outputElement = document.getElementById(outputId);\n",
              "  // Cache steps on the outputElement to make it available for the next call\n",
              "  // to uploadFilesContinue from Python.\n",
              "  outputElement.steps = steps;\n",
              "\n",
              "  return _uploadFilesContinue(outputId);\n",
              "}\n",
              "\n",
              "// This is roughly an async generator (not supported in the browser yet),\n",
              "// where there are multiple asynchronous steps and the Python side is going\n",
              "// to poll for completion of each step.\n",
              "// This uses a Promise to block the python side on completion of each step,\n",
              "// then passes the result of the previous step as the input to the next step.\n",
              "function _uploadFilesContinue(outputId) {\n",
              "  const outputElement = document.getElementById(outputId);\n",
              "  const steps = outputElement.steps;\n",
              "\n",
              "  const next = steps.next(outputElement.lastPromiseValue);\n",
              "  return Promise.resolve(next.value.promise).then((value) => {\n",
              "    // Cache the last promise value to make it available to the next\n",
              "    // step of the generator.\n",
              "    outputElement.lastPromiseValue = value;\n",
              "    return next.value.response;\n",
              "  });\n",
              "}\n",
              "\n",
              "/**\n",
              " * Generator function which is called between each async step of the upload\n",
              " * process.\n",
              " * @param {string} inputId Element ID of the input file picker element.\n",
              " * @param {string} outputId Element ID of the output display.\n",
              " * @return {!Iterable<!Object>} Iterable of next steps.\n",
              " */\n",
              "function* uploadFilesStep(inputId, outputId) {\n",
              "  const inputElement = document.getElementById(inputId);\n",
              "  inputElement.disabled = false;\n",
              "\n",
              "  const outputElement = document.getElementById(outputId);\n",
              "  outputElement.innerHTML = '';\n",
              "\n",
              "  const pickedPromise = new Promise((resolve) => {\n",
              "    inputElement.addEventListener('change', (e) => {\n",
              "      resolve(e.target.files);\n",
              "    });\n",
              "  });\n",
              "\n",
              "  const cancel = document.createElement('button');\n",
              "  inputElement.parentElement.appendChild(cancel);\n",
              "  cancel.textContent = 'Cancel upload';\n",
              "  const cancelPromise = new Promise((resolve) => {\n",
              "    cancel.onclick = () => {\n",
              "      resolve(null);\n",
              "    };\n",
              "  });\n",
              "\n",
              "  // Wait for the user to pick the files.\n",
              "  const files = yield {\n",
              "    promise: Promise.race([pickedPromise, cancelPromise]),\n",
              "    response: {\n",
              "      action: 'starting',\n",
              "    }\n",
              "  };\n",
              "\n",
              "  cancel.remove();\n",
              "\n",
              "  // Disable the input element since further picks are not allowed.\n",
              "  inputElement.disabled = true;\n",
              "\n",
              "  if (!files) {\n",
              "    return {\n",
              "      response: {\n",
              "        action: 'complete',\n",
              "      }\n",
              "    };\n",
              "  }\n",
              "\n",
              "  for (const file of files) {\n",
              "    const li = document.createElement('li');\n",
              "    li.append(span(file.name, {fontWeight: 'bold'}));\n",
              "    li.append(span(\n",
              "        `(${file.type || 'n/a'}) - ${file.size} bytes, ` +\n",
              "        `last modified: ${\n",
              "            file.lastModifiedDate ? file.lastModifiedDate.toLocaleDateString() :\n",
              "                                    'n/a'} - `));\n",
              "    const percent = span('0% done');\n",
              "    li.appendChild(percent);\n",
              "\n",
              "    outputElement.appendChild(li);\n",
              "\n",
              "    const fileDataPromise = new Promise((resolve) => {\n",
              "      const reader = new FileReader();\n",
              "      reader.onload = (e) => {\n",
              "        resolve(e.target.result);\n",
              "      };\n",
              "      reader.readAsArrayBuffer(file);\n",
              "    });\n",
              "    // Wait for the data to be ready.\n",
              "    let fileData = yield {\n",
              "      promise: fileDataPromise,\n",
              "      response: {\n",
              "        action: 'continue',\n",
              "      }\n",
              "    };\n",
              "\n",
              "    // Use a chunked sending to avoid message size limits. See b/62115660.\n",
              "    let position = 0;\n",
              "    do {\n",
              "      const length = Math.min(fileData.byteLength - position, MAX_PAYLOAD_SIZE);\n",
              "      const chunk = new Uint8Array(fileData, position, length);\n",
              "      position += length;\n",
              "\n",
              "      const base64 = btoa(String.fromCharCode.apply(null, chunk));\n",
              "      yield {\n",
              "        response: {\n",
              "          action: 'append',\n",
              "          file: file.name,\n",
              "          data: base64,\n",
              "        },\n",
              "      };\n",
              "\n",
              "      let percentDone = fileData.byteLength === 0 ?\n",
              "          100 :\n",
              "          Math.round((position / fileData.byteLength) * 100);\n",
              "      percent.textContent = `${percentDone}% done`;\n",
              "\n",
              "    } while (position < fileData.byteLength);\n",
              "  }\n",
              "\n",
              "  // All done.\n",
              "  yield {\n",
              "    response: {\n",
              "      action: 'complete',\n",
              "    }\n",
              "  };\n",
              "}\n",
              "\n",
              "scope.google = scope.google || {};\n",
              "scope.google.colab = scope.google.colab || {};\n",
              "scope.google.colab._files = {\n",
              "  _uploadFiles,\n",
              "  _uploadFilesContinue,\n",
              "};\n",
              "})(self);\n",
              "</script> "
            ]
          },
          "metadata": {}
        },
        {
          "output_type": "stream",
          "name": "stdout",
          "text": [
            "Saving cali1.png to cali1.png\n",
            "Saving cali2.jpg to cali2.jpg\n",
            "Saving cali3.png to cali3.png\n",
            "Saving cali4.jpeg to cali4.jpeg\n",
            "Saving cali5.jpg to cali5.jpg\n"
          ]
        }
      ],
      "source": [
        "uploaded = files.upload()\n",
        "images = list(uploaded.keys())"
      ]
    },
    {
      "cell_type": "code",
      "execution_count": 10,
      "metadata": {
        "colab": {
          "base_uri": "https://localhost:8080/"
        },
        "id": "63b1NJA3IZkz",
        "outputId": "16d674d5-0a81-4c7d-c914-6d884b62a872"
      },
      "outputs": [
        {
          "output_type": "stream",
          "name": "stdout",
          "text": [
            "Shape of objPoints: (5, 48, 3)\n",
            "Shape of imgPoints: (5, 48, 1, 2)\n"
          ]
        }
      ],
      "source": [
        "########## FIND CHESSBOARD CORNERS objPoints AND imgPoints ###########\n",
        "chessboardSize = (8, 6)\n",
        "objPoints = []  # 3d point in real world space\n",
        "imgPoints = []  # 2d points in image plane\n",
        "\n",
        "# Increase the number of iterations and decrease epsilon for better accuracy\n",
        "criteria = (cv.TERM_CRITERIA_EPS + cv.TERM_CRITERIA_MAX_ITER, 100, 0.0001)\n",
        "\n",
        "# Prepare object points, like (0,0,0), (1,0,0), (2,0,0) ...., (7,5,0)\n",
        "objp = np.zeros((chessboardSize[0] * chessboardSize[1], 3), np.float32)\n",
        "objp[:, :2] = np.mgrid[0:chessboardSize[0], 0:chessboardSize[1]].T.reshape(-1, 2)\n",
        "\n",
        "for i in range(len(images)):\n",
        "  img = cv.imread(images[i])\n",
        "  if i==0:\n",
        "    height, width = img.shape[:2]\n",
        "    frameSize = (width, height)\n",
        "  gray = cv.cvtColor(img, cv.COLOR_BGR2GRAY)\n",
        "  gray = cv.equalizeHist(gray)\n",
        "\n",
        "  ret, corners = cv.findChessboardCorners(gray, chessboardSize, cv.CALIB_CB_ADAPTIVE_THRESH + cv.CALIB_CB_FAST_CHECK + cv.CALIB_CB_NORMALIZE_IMAGE) # Find the chess board corners\n",
        "\n",
        "  # If found, add object points, image points (after refining them)\n",
        "  if ret == True:\n",
        "    objPoints.append(objp)\n",
        "    corners2 = cv.cornerSubPix(gray, corners, (11, 11), (-1, -1), criteria)\n",
        "    imgPoints.append(corners2)\n",
        "    cv.drawChessboardCorners(img, chessboardSize, corners2, ret)\n",
        "    # cv2_imshow(img)\n",
        "\n",
        "print(\"Shape of objPoints:\", np.array(objPoints).shape)\n",
        "print(\"Shape of imgPoints:\", np.array(imgPoints).shape)"
      ]
    },
    {
      "cell_type": "code",
      "execution_count": 4,
      "metadata": {
        "colab": {
          "base_uri": "https://localhost:8080/"
        },
        "id": "8ahHVvBRi6dS",
        "outputId": "be858392-c0ad-4710-c7da-6483ba59debc"
      },
      "outputs": [
        {
          "output_type": "stream",
          "name": "stdout",
          "text": [
            "Camera calibration parameters of the mobile phone camera are: \n",
            "\n",
            "RMS re-projection error:  0.77360268402692\n",
            "\n",
            "Camera Matrix:\n",
            " [[3.47071569e+03 0.00000000e+00 1.95593625e+03]\n",
            " [0.00000000e+00 3.48789014e+03 1.18069330e+03]\n",
            " [0.00000000e+00 0.00000000e+00 1.00000000e+00]]\n",
            "\n",
            "Distortion Parameters: \n",
            " [[ 2.46216220e-01 -1.72655773e+00  1.07916812e-02 -2.50794120e-03\n",
            "   4.24211511e+00]]\n",
            "\n",
            "Rotation Vectors: \n",
            " (array([[ 0.23592183],\n",
            "       [ 0.03252566],\n",
            "       [-0.03851247]]), array([[-0.14861482],\n",
            "       [ 0.03318904],\n",
            "       [ 1.15727975]]), array([[ 0.17781409],\n",
            "       [-0.07172579],\n",
            "       [ 1.50403027]]), array([[ 0.17386235],\n",
            "       [ 0.02125026],\n",
            "       [-0.0571129 ]]), array([[ 0.21410919],\n",
            "       [-0.02814125],\n",
            "       [ 0.77394754]]))\n",
            "\n",
            "Translation Vectors: \n",
            " (array([[ 6.22690183],\n",
            "       [ 2.13801967],\n",
            "       [32.73285181]]), array([[-2.51588339],\n",
            "       [-3.91535892],\n",
            "       [30.55835069]]), array([[-4.59640497],\n",
            "       [-5.88949892],\n",
            "       [30.37642415]]), array([[ 4.84526648],\n",
            "       [-6.82235831],\n",
            "       [30.73061335]]), array([[-4.99642484],\n",
            "       [-1.17587927],\n",
            "       [31.27419737]]))\n"
          ]
        }
      ],
      "source": [
        "ret, cameraMatrix, dist, rvecs, tvecs = cv.calibrateCamera(objPoints, imgPoints, frameSize, None, None)\n",
        "\n",
        "print(\"Camera calibration parameters of the mobile phone camera are: \")\n",
        "print(\"\\nRMS re-projection error: \", ret)\n",
        "print(\"\\nCamera Matrix:\\n\", cameraMatrix)\n",
        "print(\"\\nDistortion Parameters: \\n\", dist)\n",
        "print(\"\\nRotation Vectors: \\n\", rvecs)\n",
        "print(\"\\nTranslation Vectors: \\n\", tvecs)"
      ]
    },
    {
      "cell_type": "code",
      "execution_count": 11,
      "metadata": {
        "id": "H6O7k0CMQYNN"
      },
      "outputs": [],
      "source": [
        "for i in range(len(images)):\n",
        "    img = cv.imread(images[i])\n",
        "    h, w = img.shape[:2]\n",
        "    newCameraMatrix, roi = cv.getOptimalNewCameraMatrix(cameraMatrix, dist, (w,h), 1, (w,h))\n",
        "\n",
        "    # Undistort\n",
        "    dst = cv.undistort(img, cameraMatrix, dist, None, newCameraMatrix)\n",
        "\n",
        "\n",
        "    combined_img_height = max(img.shape[0], dst.shape[0]) # Dynamically determine combined image height based on input images\n",
        "    combined_img = np.zeros((combined_img_height, img.shape[1] + dst.shape[1], 3), dtype=np.uint8) # Create a blank image with space for both images\n",
        "    combined_img[:img.shape[0], :img.shape[1]] = img # Place the original image on the left\n",
        "    combined_img[:dst.shape[0], img.shape[1]:img.shape[1] + dst.shape[1]] = dst # Place the undistorted image on the right\n",
        "    # cv2_imshow(combined_img) # Display the combined image\n",
        "\n",
        "    # Save the undistorted image\n",
        "    saved_img_name = re.sub(r'\\.(png|jpg|jpeg)$', r'_result.\\1', images[i])\n",
        "    cv.imwrite(saved_img_name, dst)"
      ]
    },
    {
      "cell_type": "code",
      "execution_count": 12,
      "metadata": {
        "id": "PnRcVN1xIDMb",
        "colab": {
          "base_uri": "https://localhost:8080/"
        },
        "outputId": "2e15c2e1-f16a-4a73-fb49-9f6eb538ebd9"
      },
      "outputs": [
        {
          "output_type": "stream",
          "name": "stdout",
          "text": [
            "Total error: 0.11090760185580392\n"
          ]
        }
      ],
      "source": [
        "# Reprojection Error\n",
        "mean_error = 0\n",
        "for i in range(len(objPoints)):\n",
        "    imgPoints2, _ = cv.projectPoints(objPoints[i], rvecs[i], tvecs[i], cameraMatrix, dist)\n",
        "    error = cv.norm(imgPoints[i], imgPoints2, cv.NORM_L2) / len(imgPoints2)\n",
        "    mean_error += error\n",
        "print(\"Total error: {}\".format(mean_error / len(objPoints)))"
      ]
    },
    {
      "cell_type": "code",
      "execution_count": 13,
      "metadata": {
        "id": "aS3JUDQqsdCr"
      },
      "outputs": [],
      "source": [
        "for image_path in images:\n",
        "  if os.path.exists(image_path):\n",
        "      os.remove(image_path)\n",
        "  if os.path.exists(re.sub(r'\\.(png|jpg|jpeg)$', r'_result.\\1', image_path)):\n",
        "      os.remove(re.sub(r'\\.(png|jpg|jpeg)$', r'_result.\\1', image_path))"
      ]
    }
  ],
  "metadata": {
    "colab": {
      "provenance": [],
      "authorship_tag": "ABX9TyPf/iN3K2l2b4z4+WdyrpT1",
      "include_colab_link": true
    },
    "kernelspec": {
      "display_name": "Python 3",
      "name": "python3"
    },
    "language_info": {
      "name": "python"
    }
  },
  "nbformat": 4,
  "nbformat_minor": 0
}
